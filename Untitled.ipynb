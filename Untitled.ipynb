{
 "cells": [
  {
   "cell_type": "markdown",
   "metadata": {},
   "source": [
    "# INVESTIMENTOS DOS FUNDOS BRASILEIROS EM DEPÓSITOS BANCÁRIOS. CONFLITO DE INTERESSE OU NEPOTISMO?  "
   ]
  },
  {
   "cell_type": "markdown",
   "metadata": {},
   "source": [
    "*Resumo*\n",
    "\n",
    "Os fundos de investimento são um importante veículo de investimentos na economia. Muitos fundos são geridos por bancos. Porém, banco possuem uma necessidade de funding constante para suas operações, o que poderia levar a um conflito de interesses nos investimentos em depósitos bancários dos fundos geridos por bancos. Avaliando a composição das carteiras dos fundos de investimento brasileiros, mostramos que os fundos obtêm rendimentos mais baixos no LF dos bancos aos quais são afiliados, e esse tipo de investimento conflitante não ocorreu em fundos para investidores mais informados, sinalizando um conflito de interesse.\n"
   ]
  },
  {
   "cell_type": "markdown",
   "metadata": {},
   "source": [
    "## 1-INTRODUÇÃO ##\n",
    "\n",
    "Os intermediários financeiros são as instituições centrais do processo de poupança e investimento em uma economia, servindo como agentes de monitoramento, produtores de informação, provedores de liquidez e outros papéis importantes (Gorton e Winston, 2003). Dentre os intermediários financeiros, os bancos universais são de especial importância devido ao seu tamanho e impacto em uma economia. Segundo Demirgüç-Kunt e Huizinga (2010), após a crise de 2008 o modelo de banco universal, que permite aos bancos combinar uma ampla gama de atividades financeiras emergiu como a estrutura mais desejável para uma instituição financeira do ponto de vista dos órgãos reguladores, devido à sua resiliência a choques adversos. Esses bancos possuem várias áreas cujas atividades, apesar das economias de escala e escopo, podem ser uma fonte de conflitos de interesses devido a objetivos divergentes. Os conflitos de interesse nas instituições financeiras atraíram muita atenção na literatura acadêmica, apesar da percepção de que esses conflitos podem ser superestimados devido à forte regulamentação sob a qual as instituições financeiras estão submetidas (Mehran e Stulz 2007). Dentro dos bancos múltiplos, a área de gestão de recursos de terceiros pode ser uma fonte de grandes conflitos de interesse, devido à possível não existência de uma separação entre a gestão dos fundos e outras áreas do banco. Segundo Ruang e Ratnovski (2011), bancos captam recursos de curto prazo de investidores institucionais (por exemplo, fundos de investimento) para complementar a captação de recursos obtidos no varejo. \n",
    "Este artigo analisa o conflito de interesse nos investimentos em depósitos a prazo pelos fundos no Brasil, lançando uma luz sobre o relacionamento entre os bancos e os fundos de investimento em relação às atividades de funding por parte dos bancos. Até onde sabemos, esse assunto ainda não foi estudado e a única literatura de investimentos em depósitos a prazo, de Schiozer e Tejerina (2013), analisou se o investidor monitora a alocação de fundos de renda fixa em Certificado de Depósito Bancário (CDB) de bancos médios durante a crise de 2008, mas com foco nas corridas bancárias utilizando fundos de investimento.\n",
    "Este trabalho está dividido em cinco partes, sendo a primeira esta introdução. Na segunda parte está o referencial teórico e as hipóteses testadas. Na terceira parte estão os dados e métodos utilizados. Na quarta parte estão os resultados e na quinta e última parte estão as conclusões."
   ]
  },
  {
   "cell_type": "markdown",
   "metadata": {},
   "source": [
    "## 2-REFERENCIAL TEÓRICO\n",
    "\n",
    "### 2.1 - Fundos de Investimento\n",
    "Um fundo de investimento é uma maneira de investir dinheiro coletivamente. O primeiro fundo de investimento foi estabelecido na Holanda em 1774 por Abraham van Ketwich com o propósito de oferecer oportunidades de diversificação nos investimentos para pequenos investidores (Goetzmann e Rouwenhorst, 2005). O investimento coletivo possui diversas vantagens, dentre elas: capacidade de contratar gestores de investimento profissionais, menores custos de transação e maior volume de dinheiro para a diversificação de investimentos. Porém, ainda é uma questão aberta se uma gestão profissional dos investimentos pode aumentar os retornos em um valor que exceda os seus custos, Fama e French, (2010). \n",
    "O Brasil é um grande mercado para fundos de investimento, apesar do primeiro fundo de investimento ter aparecido no país apenas em 1957 (Varga e Wengert, 2011). De acordo com o Investment Company Institute, no final de 2014 o Brasil possuía a sétima maior indústria de fundos de investimento do mundo em ativos líquidos e o terceiro maior número de fundos (apenas atrás de Luxemburgo e Coréia), ICI (2015). Os fundos de investimento no Brasil são classificados não apenas em relação aos ativos investidos, Renda Fixa, Ações, Multimercado, Cambial (CVM, 2014), como também em relação a outras dimensões. Em relação à organização do condomínio, os fundos podem ser classificados como abertos ou fechados. Os fundos fechados que não permitem que investidores entrem ou saiam a qualquer momento. Após um período especificado, novos investidores e novos investimentos não são mais admitidos pelo fundo e também não é permitido resgatar investimentos antes da data previamente definida. Outra maneira de classificar os fundos é em relação à ser exclusivo ou não. Um fundo exclusivo é um fundo destinado a um único investidor, que deve ser um Investidor Profissional. Como Investidor Profissional se enquadram pessoas jurídicas ou pessoas com ativos financeiros superiores a 10 milhões de reais e pessoas com autorização especial da CVM, como analistas profissionais e gerentes de portfólio. (CVM, 2014). Além do Investidor Profissional, existe a figura do Investidor Qualificado, que são os Investidores Profissionais, as pessoas físicas ou jurídicas com ativos financeiros superiores a 1 milhão de reais e  pessoas com aprovação em certificações técnicas aprovadas pela CVM (CVM, 2014). Existem fundos de investimento destinados apenas para Investidores Qualificados, nos quais o investidor comum não pode investir. Essa diferenciação é importante pois alguns investidores, como os investidores institucionais, são mais informados do que os investidores comuns (Ke e Petroni, 2004).\n",
    "### 2.2 - Bancos\n",
    "Além de investir através de fundos de investimento, os investidores também podem depositar seus recursos nos bancos, que utilizarão os recursos depositados como funding para suas atividades. Funding é a fonte de recursos utilizadas pelos bancos para poder pagar os financiamentos oferecidos aos seus clientes. Para obter funding os bancos oferecem diversas alternativas para seus clientes, como poupança, certificado de depósito bancário (CDB), dentre outros.\n",
    "Depois da crise financeira de 2008, no final de 2009, o Banco Central do Brasil estabeleceu um novo tipo de depósito a prazo chamado Letra Financeira (LF). Esse produto foi projetado para fornecer uma fonte estável de funding aos bancos, uma vez que a LF possui pelo menos 2 anos de prazo de vencimento, sem possibilidade de resgate antes do vencimento e não sujeito às reservas obrigatórias no banco central. Ao contrário do tradicional CDB, que pode ser resgatado a qualquer tempo pelo investidor, a letra possui vencimento mínimo de dois anos, o que proporciona mais estabilidade no funding para a instituição. Outro fato importante é que o valor investido em uma LF não é coberta pela garantia de depósito do Fundo Garantidor de Crédito (FGC). Além dos produtos destinados à captação para funding, os bancos também possuem fundos de investimento para oferecer aos seus clientes. \n",
    "### 2.3- Conflitos de Interesse\n",
    "A maioria das pessoas investe por meio de fundos de investimento (Mahoney, 2004), e esses fundos de investimentos são gerenciados por empresas de gestão de ativos. Portanto, os gestores dos fundos de investimentos atendem a dois chefes, os investidores do fundo e os proprietários da empresa de gestão de ativos, criando uma situação de potencial conflito de interesses entre esses dois chefes. O dever fiduciário exige que os gestores de fundos sigam os interesses dos investidores (CFA, 2016), mas na prática os gestores de fundos podem ter incentivos para agir em nome da empresa de gestão de ativos, Mahoney (2004). Esse conflito de interesse em potencial está presente nos fundos de investimentos geridos por bancos, onde os objetivos dos investidores dos fundos podem divergir dos objetivos dos bancos. Segundo Ferreira, Matos e Pires (2018), o desempenho insuficiente dos fundos de investimento afiliados a bancos resulta de um problema de conflito de interesse, no qual os agentes (os gestores de fundos) deixam de lado os interesses de um principal (o investidor do fundo) para beneficiar outro principal (o banco). Os conflitos “agente-principal” tem sido o foco de pesquisa em diversas áreas, e a literatura de conflitos de interesse entre bancos e seus fundos afiliados mostrou evidências diversas de possíveis problemas e as razões de sua existência (Mehran e Stulz, 2007). Os fundos de investimentos gerenciados por bancos poderiam ser usados ​​pela área do banco de investimento para atividades de subscrição, como mostrado por Ber, Yafeh e Yosha (2001) e Ritter e Zang (2007). Os fundos de investimento também podem ser utilizados para estabilizar o preço das ações do próprio banco durante a divulgação de más notícias, conforme relatado por Golez e Marin (2015). Segundo Ferreira, Matos e Pires (2018), quando as empresas de administração de fundos pertencem a bancos, e não existe “Chinese Walls” para impedir a comunicação entre as divisões de gerenciamento e empréstimo, de modo que os fundos operem independentemente de outras divisões bancárias, duas situações podem ocorrer. A primeira situação é quando os gerentes de fundos podem beneficiar os negócios do banco às custas dos investidores de fundos. A segunda situação vai na direção contrária, quando a área de empréstimos do banco pode prover informações privilegiadas para o gestor de fundos afiliados, gerando uma vantagem de informações. \n",
    "Os fundos têm uma variedade diversificada de classes de ativos para investir, dependendo de seus objetivos. No entanto, todos os fundos têm requisitos de liquidez, para enfrentar possíveis saques e se beneficiar de oportunidades de investimento que possam surgir, o que os força a manter caixa e instrumentos relacionados a caixa. Simutin (2013) encontrou evidências da relação entre alta posição de caixa e desempenho do fundo, argumentando que a flexibilidade em manter caixa é um fator para o bom desempenho do fundo de investimento. Entre os instrumentos relacionados a caixa, os depósitos a prazo são uma opção importante para os fundos de investimento, permitindo que eles tenham liquidez e também gerem rentabilidade sobre esses investimentos. No entanto, os depósitos a prazo são emitidos por bancos e existem fundos afiliados aos bancos, o que pode abrir espaço para conflitos de interesse entre os cotistas do fundo e o banco.\n",
    "O Brasil possui uma combinação de um grande número de fundos (ICI, 2015) com um mercado bancário concentrado (Chang, Guerra, Lima e Tabak, 2008). Essa combinação pode gerar uma situação onde os bancos usariam os recursos administrados pelos fundos como fonte de capital mais barato e os clientes teriam poucas opções para mudar para outro banco, caso fossem prejudicados por investimentos questionáveis feitos pelos fundos de investimento. Ademais, o Brasil possui uma das taxas de juros mais altas do mundo (Banco Mundial, 2016), que torna os investimentos em depósitos bancários atrativos além dos objetivos de liquidez e das necessidades operacionais dos fundos. Desse modo, os recursos dos fundos afiliados poderiam ser uma opção mais barata de funding para os bancos, se pudessem pagar rendimentos mais baixos para depósitos a prazo de seus fundos de investimento afiliados.\n",
    "\n",
    "### 2.4- Hipóteses\n",
    "As hipóteses deste artigo são duas:\n",
    "- Hipótese 1 - Conflito de interesse: os bancos oferecem um rendimento menor nos depósitos aos seus fundos afiliados do que o rendimento em depósitos que oferece aos fundos não afiliados. Essa hipótese está relacionada a outros estudos que encontraram evidências de investimentos de fundos privilegiando as atividades do banco controlador às custas dos detentores de fundos, como mostram Ber, Yafeh e Yosha (2001), Ritter e Zang (2007) e Golez e Marin ( 2015).\n",
    "- Hipótese 2 - Monitoramento: Os fundos destinados a investidores mais informados, como investidores institucionais, não enfrentarão rendimentos mais baixos oferecidos pelo banco controlador, pois esses investidores monitoram a alocação de fundos. Como esses investidores têm mais habilidades e recursos (Ke e Petroni, 2004) do que os investidores comuns para supervisionar os investimentos feitos pelos fundos, o conflito de interesses pode ser mitigado e os rendimentos oferecidos a esses fundos não seriam inferiores aos rendimentos. oferecido a outros fundos afiliados."
   ]
  },
  {
   "cell_type": "markdown",
   "metadata": {},
   "source": [
    "## 3- DADOS E MÉTODOS\n",
    "\n",
    "A fonte dos dados utilizados neste artigo é a composição mensal das carteiras dos fundos de investimento no Brasil de janeiro de 2010 até dezembro de 2019. Os dados estão disponíveis no site da Comissão de Valores Mobiliários (CVM). \n",
    "Para analisar as variáveis que podem influenciar o rendimento das aplicações financeiras feitas pelos fundos de investimento temos várias observações de diferentes bancos durante vários períodos de tempo. Porém, para cada período e cada banco emissor e cada fundo de investimento, pode existir mais de uma observação. Por exemplo, no período \"t\" um fundo \"f\" pode investir em 3 LFs e 2 CDBs do mesmo banco \"b\", com volumes e prazos de vencimento distintos.\n",
    "O modelo upode ser descrito como:\n",
    "\n",
    "$ Taxa_{i} = \\alpha + \\beta_{0}*TipoInvestimento_{i} + \\beta_{1}*Volume_{i} + \\beta_{2}*Prazo_{i} +\n",
    "\\beta_{3}*FundoExclusivo_{i} + \\beta_{4}*InvestidorQualificado_{i} + \\beta_{5}*BancoAfiliado_{i} + \\beta_{6}*BancoEmissor_{i} + \\beta_{7}*AnoMes_{i}\n",
    "$\n",
    "\n",
    "As variáveis a serem consideradas no modelo são: \n",
    "- Taxa : taxa em % do DI;\n",
    "- Tipo Investimento: Se é CDB ou LF;\n",
    "- banco emissor: banco responsável pela emissão do depósito bancário;\n",
    "- período (medido em mês e ano): serve para controlar períodos em que os rendimentos em geral são maiores ou menores;\n",
    "- prazo até o vencimento: pode existir um efeito do prazo do investimento influenciando os rendimentos, onde investimentos de maior prazo teriam um maior rendimento;\n",
    "- fundo exclusivo: variável dummy representando se o fundo é exclusivo;\n",
    "- investidor qualificado: variável dummy representando se o fundo é apenas para investidores qualificados;\n",
    "- volume de investimento: pode existir um efeito de volume influenciando os rendimentos, onde investimentos de maior prazo obteriam um maior rendimento;"
   ]
  },
  {
   "cell_type": "markdown",
   "metadata": {},
   "source": [
    "## 4-RESULTADOS\n",
    "\n",
    "A primeira questão é qual o comportamento dos novos investimentos em depósitos bancários dos fundos de investimento, se existe alguma tendência perceptível. Na tabela 1 temos o volume financeiro dos investimentos em ativos classificados como “Depósitos a prazo e outros títulos de Instituições Financeiras (IF)” de 2008 a 2019, tanto para fundos de investimento afiliados a bancos quanto para fundos de investimento não afiliados a bancos. "
   ]
  },
  {
   "cell_type": "code",
   "execution_count": 10,
   "metadata": {},
   "outputs": [
    {
     "data": {
      "text/html": [
       "\n",
       "<table style=\"text-align:center\"><caption><strong>Investimento em Depósitos Financeiros</strong></caption>\n",
       "<tr><td colspan=\"3\" style=\"border-bottom: 1px solid black\"></td></tr><tr><td style=\"text-align:left\">ano</td><td>0</td><td>1</td></tr>\n",
       "<tr><td colspan=\"3\" style=\"border-bottom: 1px solid black\"></td></tr><tr><td style=\"text-align:left\">2008</td><td>70712.61</td><td>17491.24</td></tr>\n",
       "<tr><td style=\"text-align:left\">2009</td><td>40460.18</td><td>4283.72</td></tr>\n",
       "<tr><td style=\"text-align:left\">2010</td><td>41608.38</td><td>13991.63</td></tr>\n",
       "<tr><td style=\"text-align:left\">2011</td><td>49703.37</td><td>16468.02</td></tr>\n",
       "<tr><td style=\"text-align:left\">2012</td><td>40638.84</td><td>10773.38</td></tr>\n",
       "<tr><td style=\"text-align:left\">2013</td><td>57471.5</td><td>15820.58</td></tr>\n",
       "<tr><td style=\"text-align:left\">2014</td><td>46995.48</td><td>11259.39</td></tr>\n",
       "<tr><td style=\"text-align:left\">2015</td><td>53377.55</td><td>7764.7</td></tr>\n",
       "<tr><td style=\"text-align:left\">2016</td><td>44122.3</td><td>11698.46</td></tr>\n",
       "<tr><td style=\"text-align:left\">2017</td><td>30908.24</td><td>943.38</td></tr>\n",
       "<tr><td style=\"text-align:left\">2018</td><td>54177.33</td><td>4990.41</td></tr>\n",
       "<tr><td style=\"text-align:left\">2019</td><td>49154.72</td><td>3024.22</td></tr>\n",
       "<tr><td colspan=\"3\" style=\"border-bottom: 1px solid black\"></td></tr></table>\n"
      ],
      "text/plain": [
       "<IPython.core.display.HTML object>"
      ]
     },
     "execution_count": 10,
     "metadata": {},
     "output_type": "execute_result"
    }
   ],
   "source": [
    "from IPython.display import HTML\n",
    "HTML(filename='/home/tumenas/Papers/CDB/results/tables/tabela_total.html')"
   ]
  },
  {
   "cell_type": "markdown",
   "metadata": {},
   "source": [
    "Podemos observar uma grande oscilação nos investimentos em depósitos bancários durante o período analisado, tanto em bancos não afiliados como em bancos afiliados. Na tabela 2 está a evolução do volume de investimentos por diferentes tipos de depósito bancário."
   ]
  },
  {
   "cell_type": "code",
   "execution_count": 11,
   "metadata": {},
   "outputs": [
    {
     "data": {
      "text/html": [
       "\n",
       "<table style=\"text-align:center\"><caption><strong>Investimentos por tipo de Ativo</strong></caption>\n",
       "<tr><td colspan=\"7\" style=\"border-bottom: 1px solid black\"></td></tr><tr><td style=\"text-align:left\">ano</td><td>CDB com cláusula \"S\"</td><td>CDB/ RDB</td><td>DPGE</td><td>Letra de Câmbio/ Letra Hipotecária/ Letra Imobiliária</td><td>Letra Financeira</td><td>Outros</td></tr>\n",
       "<tr><td colspan=\"7\" style=\"border-bottom: 1px solid black\"></td></tr><tr><td style=\"text-align:left\">2007</td><td>NA</td><td>10029.41</td><td>NA</td><td>0.22</td><td>NA</td><td>306.19</td></tr>\n",
       "<tr><td style=\"text-align:left\">2008</td><td>NA</td><td>86916.29</td><td>NA</td><td>261.57</td><td>NA</td><td>1025.99</td></tr>\n",
       "<tr><td style=\"text-align:left\">2009</td><td>NA</td><td>42809.18</td><td>NA</td><td>167.26</td><td>NA</td><td>1767.46</td></tr>\n",
       "<tr><td style=\"text-align:left\">2010</td><td>NA</td><td>51214.64</td><td>NA</td><td>196.53</td><td>NA</td><td>4188.84</td></tr>\n",
       "<tr><td style=\"text-align:left\">2011</td><td>NA</td><td>35180.97</td><td>NA</td><td>320.91</td><td>1359.07</td><td>29310.44</td></tr>\n",
       "<tr><td style=\"text-align:left\">2012</td><td>1325.45</td><td>18915</td><td>472.12</td><td>416.28</td><td>18893.39</td><td>11389.99</td></tr>\n",
       "<tr><td style=\"text-align:left\">2013</td><td>938.57</td><td>21476.17</td><td>557.96</td><td>1754.43</td><td>34558.42</td><td>14006.53</td></tr>\n",
       "<tr><td style=\"text-align:left\">2014</td><td>182.81</td><td>14807.62</td><td>342.38</td><td>2079.97</td><td>25028.95</td><td>15813.14</td></tr>\n",
       "<tr><td style=\"text-align:left\">2015</td><td>438.14</td><td>16419.34</td><td>686.82</td><td>3408.47</td><td>20039.26</td><td>20150.22</td></tr>\n",
       "<tr><td style=\"text-align:left\">2016</td><td>39.12</td><td>15713.97</td><td>690.82</td><td>3344.58</td><td>16352.96</td><td>19679.31</td></tr>\n",
       "<tr><td style=\"text-align:left\">2017</td><td>NA</td><td>7791.02</td><td>128.83</td><td>3527.2</td><td>7819.51</td><td>12585.07</td></tr>\n",
       "<tr><td style=\"text-align:left\">2018</td><td>NA</td><td>7464.26</td><td>423.74</td><td>6.47</td><td>42406.35</td><td>8866.91</td></tr>\n",
       "<tr><td style=\"text-align:left\">2019</td><td>1.13</td><td>7895.84</td><td>15.57</td><td>2.6</td><td>44253.78</td><td>10.03</td></tr>\n",
       "<tr><td colspan=\"7\" style=\"border-bottom: 1px solid black\"></td></tr><tr><td colspan=\"7\" style=\"text-align:left\">Fonte: Elaboração própria</td></tr>\n",
       "</table>\n"
      ],
      "text/plain": [
       "<IPython.core.display.HTML object>"
      ]
     },
     "execution_count": 11,
     "metadata": {},
     "output_type": "execute_result"
    }
   ],
   "source": [
    "HTML(filename='/home/tumenas/Papers/CDB/results/tables/tabela_ativos.html')"
   ]
  },
  {
   "cell_type": "markdown",
   "metadata": {},
   "source": [
    "É possível notar um predomínio dos investimentos em CDB/RDB até 2012. A partir de então o volume de investimentos em depósitos bancários por parte dos fundos passa se concentrar nas LF.\n",
    "Os depósitos bancários podem ter diversos tipos de indexador para remuneração, como DI, Selic, IPCA, TR, Pré Fixado, dentre outros. Na tabela 3 temos a proporção dos investimentos em depósitos bancários por tipo de indexador. "
   ]
  },
  {
   "cell_type": "code",
   "execution_count": 5,
   "metadata": {},
   "outputs": [
    {
     "data": {
      "text/html": [
       "\n",
       "<table style=\"text-align:center\"><caption><strong>Investimentos por tipo de Indexador</strong></caption>\n",
       "<tr><td colspan=\"11\" style=\"border-bottom: 1px solid black\"></td></tr><tr><td style=\"text-align:left\"></td><td>ano</td><td>V1</td><td>ANB</td><td>DI1</td><td>IAP</td><td>IGM</td><td>IPC</td><td>OUT</td><td>PRE</td><td>SEL</td></tr>\n",
       "<tr><td colspan=\"11\" style=\"border-bottom: 1px solid black\"></td></tr><tr><td style=\"text-align:left\">1</td><td>2007</td><td>20.78</td><td>14.52</td><td>8706.51</td><td>NA</td><td>46.61</td><td>NA</td><td>NA</td><td>100.42</td><td>1446.97</td></tr>\n",
       "<tr><td style=\"text-align:left\">2</td><td>2008</td><td>15.76</td><td>6150.03</td><td>51544.86</td><td>NA</td><td>301.13</td><td>NA</td><td>33.31</td><td>10.05</td><td>30148.72</td></tr>\n",
       "<tr><td style=\"text-align:left\">3</td><td>2009</td><td>15.06</td><td>NA</td><td>35885.04</td><td>187.4</td><td>133.62</td><td>NA</td><td>98.51</td><td>NA</td><td>8424.27</td></tr>\n",
       "<tr><td style=\"text-align:left\">4</td><td>2010</td><td>27.77</td><td>NA</td><td>43439.76</td><td>205.46</td><td>6.32</td><td>30.9</td><td>82.9</td><td>15.82</td><td>11791.07</td></tr>\n",
       "<tr><td style=\"text-align:left\">5</td><td>2011</td><td>207.02</td><td>NA</td><td>54597.44</td><td>1310</td><td>8.17</td><td>18.48</td><td>110.18</td><td>14.14</td><td>9905.96</td></tr>\n",
       "<tr><td style=\"text-align:left\">6</td><td>2012</td><td>156.46</td><td>NA</td><td>50062.88</td><td>546.48</td><td>117.22</td><td>315.58</td><td>NA</td><td>161.25</td><td>52.36</td></tr>\n",
       "<tr><td style=\"text-align:left\">7</td><td>2013</td><td>145.89</td><td>NA</td><td>69578.54</td><td>753.38</td><td>13.66</td><td>153.28</td><td>NA</td><td>34.39</td><td>2612.94</td></tr>\n",
       "<tr><td style=\"text-align:left\">8</td><td>2014</td><td>77.59</td><td>NA</td><td>56781.91</td><td>362.14</td><td>117.55</td><td>153.15</td><td>NA</td><td>11.77</td><td>750.76</td></tr>\n",
       "<tr><td style=\"text-align:left\">9</td><td>2015</td><td>54.07</td><td>NA</td><td>60270.09</td><td>449.7</td><td>83.9</td><td>94.06</td><td>NA</td><td>6.57</td><td>183.86</td></tr>\n",
       "<tr><td style=\"text-align:left\">10</td><td>2016</td><td>1156.06</td><td>NA</td><td>53726.48</td><td>14.49</td><td>16.96</td><td>52.62</td><td>NA</td><td>455.73</td><td>398.42</td></tr>\n",
       "<tr><td style=\"text-align:left\">11</td><td>2017</td><td>104.65</td><td>NA</td><td>31660.96</td><td>4.96</td><td>0.88</td><td>NA</td><td>1.04</td><td>13.08</td><td>66.05</td></tr>\n",
       "<tr><td style=\"text-align:left\">12</td><td>2018</td><td>648.53</td><td>NA</td><td>58305.98</td><td>191.2</td><td>0.16</td><td>NA</td><td>19.15</td><td>2.71</td><td>NA</td></tr>\n",
       "<tr><td style=\"text-align:left\">13</td><td>2019</td><td>545.78</td><td>NA</td><td>50337.09</td><td>377.19</td><td>NA</td><td>NA</td><td>NA</td><td>1.65</td><td>917.22</td></tr>\n",
       "<tr><td colspan=\"11\" style=\"border-bottom: 1px solid black\"></td></tr></table>\n"
      ],
      "text/plain": [
       "<IPython.core.display.HTML object>"
      ]
     },
     "execution_count": 5,
     "metadata": {},
     "output_type": "execute_result"
    }
   ],
   "source": [
    "HTML(filename='/home/tumenas/Papers/CDB/results/tables/tabela_indexador.html')"
   ]
  },
  {
   "cell_type": "markdown",
   "metadata": {},
   "source": [
    "A partir de 2011, quase a totalidade dos investimentos em depósitos bancários por partes dos fundos é indexada ao índice DI.  Na tabela 4 temos, para CDB/RDB e LF indexados ao DI, a estrutura de remuneração dos depósitos entre depósitos que são remunerados com um percentual (%) da taxa DI e os depósitos que são remunerados com um percentual (%) da taxa DI mais um cupom fixo"
   ]
  },
  {
   "cell_type": "code",
   "execution_count": 6,
   "metadata": {},
   "outputs": [
    {
     "data": {
      "text/html": [
       "\n",
       "<table style=\"text-align:center\"><caption><strong>Investimentos por tipo de Ativo</strong></caption>\n",
       "<tr><td colspan=\"4\" style=\"border-bottom: 1px solid black\"></td></tr><tr><td style=\"text-align:left\"></td><td>ano</td><td></td><td>DI+</td></tr>\n",
       "<tr><td colspan=\"4\" style=\"border-bottom: 1px solid black\"></td></tr><tr><td style=\"text-align:left\">1</td><td>2007</td><td>5035.35</td><td>450.28</td></tr>\n",
       "<tr><td style=\"text-align:left\">2</td><td>2008</td><td>41498.57</td><td>7097.96</td></tr>\n",
       "<tr><td style=\"text-align:left\">3</td><td>2009</td><td>31730.78</td><td>3816.47</td></tr>\n",
       "<tr><td style=\"text-align:left\">4</td><td>2010</td><td>35227.21</td><td>4251</td></tr>\n",
       "<tr><td style=\"text-align:left\">5</td><td>2011</td><td>23221.09</td><td>3346.61</td></tr>\n",
       "<tr><td style=\"text-align:left\">6</td><td>2012</td><td>35833.64</td><td>1265.88</td></tr>\n",
       "<tr><td style=\"text-align:left\">7</td><td>2013</td><td>50371.25</td><td>2272.27</td></tr>\n",
       "<tr><td style=\"text-align:left\">8</td><td>2014</td><td>38131.38</td><td>320.99</td></tr>\n",
       "<tr><td style=\"text-align:left\">9</td><td>2015</td><td>35340.46</td><td>559.75</td></tr>\n",
       "<tr><td style=\"text-align:left\">10</td><td>2016</td><td>30448.59</td><td>587.21</td></tr>\n",
       "<tr><td style=\"text-align:left\">11</td><td>2017</td><td>14694.21</td><td>749.28</td></tr>\n",
       "<tr><td style=\"text-align:left\">12</td><td>2018</td><td>48535.7</td><td>475.19</td></tr>\n",
       "<tr><td style=\"text-align:left\">13</td><td>2019</td><td>43973.94</td><td>5330.38</td></tr>\n",
       "<tr><td colspan=\"4\" style=\"border-bottom: 1px solid black\"></td></tr></table>\n"
      ],
      "text/plain": [
       "<IPython.core.display.HTML object>"
      ]
     },
     "execution_count": 6,
     "metadata": {},
     "output_type": "execute_result"
    }
   ],
   "source": [
    "HTML(filename='/home/tumenas/Papers/CDB/results/tables/tabela_tipo_di.html')"
   ]
  },
  {
   "cell_type": "markdown",
   "metadata": {},
   "source": [
    "Durante o período avaliado, mais de 80% dos CDB/RDB e LF são remunerados por meio de percentual da taxa DI.\n",
    "Um ponto de atenção é o fato que os CDB/RDB podem ter características, como a possibilidade de resgate antes do vencimento, que influenciam o rendimento. Essas características não estão disponíveis na base de dados. Já a Letra Financeira tem como característica ser um investimento de longo prazo sem possibilidade de resgate antecipado, o que possibilita comparar os rendimentos oferecidos pelas instituições financeiras a diferentes tipos de fundos de investimento e, consequentemente, o possíveis conflitos de interesse em investimentos de depósitos a prazo efetuados por fundos mútuos afiliados. Comparando o rendimento médio fornecido pelas LF ao longo dos anos, temos na tabela 4 a seguir o percentual do DI médio tanto das LF dos fundos são afiliados a bancos quando das LF dos fundos não afiliados."
   ]
  },
  {
   "cell_type": "code",
   "execution_count": 9,
   "metadata": {},
   "outputs": [
    {
     "data": {
      "text/html": [
       "\n",
       "<table style=\"text-align:center\"><tr><td colspan=\"3\" style=\"border-bottom: 1px solid black\"></td></tr><tr><td style=\"text-align:left\"></td><td colspan=\"2\"><em>Dependent variable:</em></td></tr>\n",
       "<tr><td></td><td colspan=\"2\" style=\"border-bottom: 1px solid black\"></td></tr>\n",
       "<tr><td style=\"text-align:left\"></td><td colspan=\"2\">PR_INDEXADOR_POSFX</td></tr>\n",
       "<tr><td style=\"text-align:left\"></td><td>(1)</td><td>(2)</td></tr>\n",
       "<tr><td colspan=\"3\" style=\"border-bottom: 1px solid black\"></td></tr><tr><td style=\"text-align:left\">Constant</td><td>100.21<sup>***</sup></td><td>100.20<sup>***</sup></td></tr>\n",
       "<tr><td style=\"text-align:left\"></td><td>(0.26)</td><td>(0.26)</td></tr>\n",
       "<tr><td style=\"text-align:left\"></td><td></td><td></td></tr>\n",
       "<tr><td style=\"text-align:left\">EMISSOR_LIGADO</td><td>-0.48<sup>***</sup></td><td>-0.42<sup>***</sup></td></tr>\n",
       "<tr><td style=\"text-align:left\"></td><td>(0.10)</td><td>(0.12)</td></tr>\n",
       "<tr><td style=\"text-align:left\"></td><td></td><td></td></tr>\n",
       "<tr><td style=\"text-align:left\">TP_ATIVOLetra Financeira</td><td>2.82<sup>***</sup></td><td>2.81<sup>***</sup></td></tr>\n",
       "<tr><td style=\"text-align:left\"></td><td>(0.05)</td><td>(0.06)</td></tr>\n",
       "<tr><td style=\"text-align:left\"></td><td></td><td></td></tr>\n",
       "<tr><td style=\"text-align:left\">VL_AQUIS_NEGOC</td><td>-0.00<sup>***</sup></td><td>-0.00<sup>***</sup></td></tr>\n",
       "<tr><td style=\"text-align:left\"></td><td>(0.00)</td><td>(0.00)</td></tr>\n",
       "<tr><td style=\"text-align:left\"></td><td></td><td></td></tr>\n",
       "<tr><td style=\"text-align:left\">prazo</td><td>0.0001<sup>***</sup></td><td>0.0001<sup>***</sup></td></tr>\n",
       "<tr><td style=\"text-align:left\"></td><td>(0.0000)</td><td>(0.0000)</td></tr>\n",
       "<tr><td style=\"text-align:left\"></td><td></td><td></td></tr>\n",
       "<tr><td style=\"text-align:left\">INVEST_QUALIF</td><td>0.10<sup>***</sup></td><td>0.13<sup>***</sup></td></tr>\n",
       "<tr><td style=\"text-align:left\"></td><td>(0.04)</td><td>(0.04)</td></tr>\n",
       "<tr><td style=\"text-align:left\"></td><td></td><td></td></tr>\n",
       "<tr><td style=\"text-align:left\">EXCLUSIVO</td><td>-0.53<sup>***</sup></td><td>-0.59<sup>***</sup></td></tr>\n",
       "<tr><td style=\"text-align:left\"></td><td>(0.06)</td><td>(0.06)</td></tr>\n",
       "<tr><td style=\"text-align:left\"></td><td></td><td></td></tr>\n",
       "<tr><td style=\"text-align:left\">EMISSOR_LIGADO:INVEST_QUALIF</td><td></td><td>-0.50<sup>***</sup></td></tr>\n",
       "<tr><td style=\"text-align:left\"></td><td></td><td>(0.17)</td></tr>\n",
       "<tr><td style=\"text-align:left\"></td><td></td><td></td></tr>\n",
       "<tr><td style=\"text-align:left\">EMISSOR_LIGADO:EXCLUSIVO</td><td></td><td>1.39<sup>***</sup></td></tr>\n",
       "<tr><td style=\"text-align:left\"></td><td></td><td>(0.27)</td></tr>\n",
       "<tr><td style=\"text-align:left\"></td><td></td><td></td></tr>\n",
       "<tr><td colspan=\"3\" style=\"border-bottom: 1px solid black\"></td></tr><tr><td style=\"text-align:left\">Observations</td><td>32,470</td><td>32,470</td></tr>\n",
       "<tr><td style=\"text-align:left\">R<sup>2</sup></td><td>0.55</td><td>0.55</td></tr>\n",
       "<tr><td style=\"text-align:left\">Adjusted R<sup>2</sup></td><td>0.54</td><td>0.54</td></tr>\n",
       "<tr><td style=\"text-align:left\">Residual Std. Error</td><td>2.86 (df = 32092)</td><td>2.86 (df = 32090)</td></tr>\n",
       "<tr><td style=\"text-align:left\">F Statistic</td><td>102.59<sup>***</sup> (df = 377; 32092)</td><td>102.20<sup>***</sup> (df = 379; 32090)</td></tr>\n",
       "<tr><td colspan=\"3\" style=\"border-bottom: 1px solid black\"></td></tr><tr><td style=\"text-align:left\"><em>Note:</em></td><td colspan=\"2\" style=\"text-align:right\"><sup>*</sup>p<0.1; <sup>**</sup>p<0.05; <sup>***</sup>p<0.01</td></tr>\n",
       "</table>\n"
      ],
      "text/plain": [
       "<IPython.core.display.HTML object>"
      ]
     },
     "execution_count": 9,
     "metadata": {},
     "output_type": "execute_result"
    }
   ],
   "source": [
    "HTML(filename='/home/tumenas/Papers/CDB/results/tables/regressoes.html')"
   ]
  },
  {
   "cell_type": "markdown",
   "metadata": {},
   "source": [
    "# 5-CONCLUSÃO\n",
    "\n",
    "Os conflitos de interesse são um tópico importante em finanças, mas, até onde sabemos, os investimentos em dinheiro dos fundos não foram considerados como uma possível área de conflito de interesses.\n",
    "Os instrumentos relacionados a caixa são uma classe de ativos importante no setor de fundos brasileiro, não apenas por suas necessidades operacionais, mas também como estratégia de investimento. Muitos fundos são afiliados aos bancos, o que poderia trazer conflitos de interesse entre as atividades de financiamento dos bancos e os investimentos dos fundos. No final de 2009, o Banco Central do Brasil criou a Letra Financeira (LF) como uma opção para fornecer uma fonte estável de financiamento para os bancos, isentando-a de exigências de reservas, mas também proibindo o resgate antes do vencimento. Esse instrumento ganhou importância como uma classe de ativos em fundos e, combinado com as características do instrumento (que não possui flexibilidade e, portanto, é comparável entre bancos e fundos), ofereceu uma excelente oportunidade para testar o possível conflito de interesses entre bancos e fundos afiliados com foco nas atividades de financiamento bancário.\n",
    "Analisamos os rendimentos do LF investidos pelos fundos brasileiros de 2010 a 2015 para testar duas hipóteses, a hipótese do conflito de interesses, em que o fundo obteria um rendimento menor no LF do banco ao qual está relacionado do que outros fundos que não estão relacionados , e a hipótese de monitoramento, de que os fundos de investidores mais informados não estariam sujeitos a esses rendimentos mais baixos do LF do banco controlador.\n",
    "Para a hipótese de conflito de interesse, encontramos uma diferença negativa significativa na LF dos fundos afiliados, com os bancos oferecendo um rendimento menor aos seus próprios fundos, transferindo recursos dos investidores dos fundos para o banco.\n",
    "A hipótese de monitoramento também teve evidências que a sustentavam, com a diferença negativa nos rendimentos encontrados nos fundos afiliados não ocorrendo nos fundos direcionados a investidores mais informados. O monitoramento pode impedir esse tipo de conflito de interesses.\n",
    "Os resultados apontam para um novo conflito de interesses na relação entre os bancos e seus fundos mútuos afiliados, que distorce as decisões de investimento e afeta negativamente os resultados para os investidores."
   ]
  }
 ],
 "metadata": {
  "kernelspec": {
   "display_name": "Python 3",
   "language": "python",
   "name": "python3"
  },
  "language_info": {
   "codemirror_mode": {
    "name": "ipython",
    "version": 3
   },
   "file_extension": ".py",
   "mimetype": "text/x-python",
   "name": "python",
   "nbconvert_exporter": "python",
   "pygments_lexer": "ipython3",
   "version": "3.8.2"
  }
 },
 "nbformat": 4,
 "nbformat_minor": 4
}
